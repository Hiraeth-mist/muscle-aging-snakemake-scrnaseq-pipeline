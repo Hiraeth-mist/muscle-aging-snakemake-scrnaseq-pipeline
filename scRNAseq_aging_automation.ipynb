{
  "nbformat": 4,
  "nbformat_minor": 0,
  "metadata": {
    "colab": {
      "provenance": [],
      "authorship_tag": "ABX9TyMYCFUyyhLngQmeFS2EnS5u",
      "include_colab_link": true
    },
    "kernelspec": {
      "name": "python3",
      "display_name": "Python 3"
    },
    "language_info": {
      "name": "python"
    }
  },
  "cells": [
    {
      "cell_type": "markdown",
      "metadata": {
        "id": "view-in-github",
        "colab_type": "text"
      },
      "source": [
        "<a href=\"https://colab.research.google.com/github/Hiraeth-mist/muscle-aging-snakemake-scrnaseq-pipeline/blob/main/scRNAseq_aging_automation.ipynb\" target=\"_parent\"><img src=\"https://colab.research.google.com/assets/colab-badge.svg\" alt=\"Open In Colab\"/></a>"
      ]
    },
    {
      "cell_type": "code",
      "execution_count": null,
      "metadata": {
        "id": "zu-ABcEIdH1z"
      },
      "outputs": [],
      "source": [
        "# Connects your Colab session to your Google Drive\n",
        "from google.colab import drive\n",
        "drive.mount('/content/drive')\n",
        "print(\"Google Drive mounted successfully!\")"
      ]
    },
    {
      "cell_type": "code",
      "source": [
        "import os\n",
        "import zipfile\n",
        "\n",
        "# Define the path to your zipped pipeline in Google Drive\n",
        "pipeline_zip_path = \"/content/drive/MyDrive/RNAseq_AutoPipeline_Project/colab_pipeline.zip\"\n",
        "\n",
        "# Define the directory where you want to extract your pipeline files\n",
        "# We will set our current working directory to this later.\n",
        "colab_pipeline_root = \"/content/colab_pipeline_env\" # This will contain Snakefile, config etc.\n",
        "\n",
        "# Create the extraction directory\n",
        "os.makedirs(colab_pipeline_root, exist_ok=True)\n",
        "\n",
        "# Unzip the pipeline file\n",
        "print(f\"Unzipping pipeline files from {pipeline_zip_path} to {colab_pipeline_root}...\")\n",
        "with zipfile.ZipFile(pipeline_zip_path, 'r') as zip_ref:\n",
        "    # Assumes the zip contains a single top-level folder (e.g., 'my_colab_pipeline/')\n",
        "    # We want to extract its *contents* directly into colab_pipeline_root\n",
        "    # This loop handles cases where zip has a top-level dir or not.\n",
        "    for member in zip_ref.namelist():\n",
        "        # Get only the base name of the member (e.g., 'Snakefile', 'envs/', 'scripts/')\n",
        "        member_path = os.path.join(colab_pipeline_root, os.path.relpath(member, zip_ref.namelist()[0].split(os.sep)[0]))\n",
        "        if member_path == colab_pipeline_root: # Skip if it's the root directory itself\n",
        "            continue\n",
        "        if member.endswith('/'): # If it's a directory, create it\n",
        "            os.makedirs(member_path, exist_ok=True)\n",
        "        else: # If it's a file, extract it\n",
        "            with open(member_path, 'wb') as outfile:\n",
        "                outfile.write(zip_ref.read(member))\n",
        "\n",
        "print(f\"Pipeline files unzipped to: {colab_pipeline_root}\")\n",
        "\n",
        "# Verify contents (optional but recommended for debugging paths)\n",
        "print(\"\\nContents of pipeline root:\")\n",
        "!ls -F {colab_pipeline_root}\n",
        "print(\"\\nContents of scripts folder:\")\n",
        "!ls -F {colab_pipeline_root}/scripts"
      ],
      "metadata": {
        "id": "RmG6BqeNdbjo"
      },
      "execution_count": null,
      "outputs": []
    },
    {
      "cell_type": "code",
      "source": [
        "import os\n",
        "import subprocess\n",
        "\n",
        "# Define the base directory where your unzipped sample folders are\n",
        "DATA_ROOT_DIR = \"/content/drive/MyDrive/RNAseq_AutoPipeline_Project/data\"\n",
        "\n",
        "# List of your sample folders (ensure these match your actual folder names)\n",
        "sample_folders = [\n",
        "    \"Muscle-Old-scRNAseq-rep1\",\n",
        "    \"Muscle-Old-scRNAseq-rep2\",\n",
        "    \"Muscle-Old-scRNAseq-rep3\",\n",
        "    \"Muscle-Young-scRNAseq-rep1\",\n",
        "    \"Muscle-Young-scRNAseq-rep2\",\n",
        "    \"Muscle-Young-scRNAseq-rep3\"\n",
        "]\n",
        "\n",
        "print(\"Gzipping data files...\")\n",
        "for sample_folder in sample_folders:\n",
        "    sample_path = os.path.join(DATA_ROOT_DIR, sample_folder)\n",
        "\n",
        "    # Check if files exist before gzipping (and if they are not already gzipped)\n",
        "    files_to_compress = [\n",
        "        os.path.join(sample_path, \"barcodes.tsv\"),\n",
        "        os.path.join(sample_path, \"features.tsv\"),\n",
        "        os.path.join(sample_path, \"matrix.mtx\")\n",
        "    ]\n",
        "\n",
        "    for file_path in files_to_compress:\n",
        "        if os.path.exists(file_path) and not file_path.endswith('.gz'):\n",
        "            print(f\"  Compressing: {file_path}\")\n",
        "            # Use subprocess to run gzip command\n",
        "            try:\n",
        "                subprocess.run(f\"gzip {file_path}\", shell=True, check=True)\n",
        "            except subprocess.CalledProcessError as e:\n",
        "                print(f\"Error compressing {file_path}: {e}\")\n",
        "                print(f\"Output: {e.stdout.decode()} {e.stderr.decode()}\")\n",
        "        elif os.path.exists(file_path + '.gz'):\n",
        "            print(f\"  Already gzipped: {file_path}.gz\")\n",
        "        else:\n",
        "            print(f\"  File not found (or already gzipped): {file_path}\")\n",
        "\n",
        "print(\"Gzipping complete.\")\n",
        "\n",
        "# Optional: Verify new file names (should now end with .gz)\n",
        "print(\"\\nVerifying file names after gzipping (first sample):\")\n",
        "!ls -l {DATA_ROOT_DIR}/Muscle-Old-scRNAseq-rep1/"
      ],
      "metadata": {
        "id": "S1GLGqbouMWl"
      },
      "execution_count": null,
      "outputs": []
    },
    {
      "cell_type": "code",
      "source": [
        "# Part 2, Step 2.4: Install Conda and Snakemake\n",
        "\n",
        "# Install Miniconda\n",
        "print(\"Installing Miniconda...\")\n",
        "!wget -q https://repo.anaconda.com/miniconda/Miniconda3-latest-Linux-x86_64.sh\n",
        "!chmod +x Miniconda3-latest-Linux-x86_64.sh\n",
        "# Install to /usr/local. Use -b for batch mode, -p for prefix.\n",
        "!bash ./Miniconda3-latest-Linux-x86_64.sh -b -p /usr/local -f # -f forces if directory exists\n",
        "\n",
        "# Conda's main executable is usually in /usr/local/bin or /usr/local/condabin\n",
        "# We need to make sure this is in the PATH for ALL subsequent shell commands.\n",
        "# This approach adds it to the current shell's PATH and makes it persistent for `!` commands.\n",
        "import os\n",
        "os.environ['PATH'] = \"/usr/local/bin:/usr/local/condabin:\" + os.environ['PATH']\n",
        "\n",
        "# Also add site-packages to sys.path for Python to find packages installed by Conda\n",
        "import sys\n",
        "if '/usr/local/lib/python3.11/site-packages' not in sys.path:\n",
        "    sys.path.append('/usr/local/lib/python3.11/site-packages')\n",
        "\n",
        "# Now, initialize conda for the *current* shell session.\n",
        "# This is typically what 'conda init bash' does and then 'source ~/.bashrc'\n",
        "# The 'hook' is crucial.\n",
        "!eval \"$(conda shell.bash hook)\"\n",
        "\n",
        "# Explicitly activate the base environment (often helps Snakemake)\n",
        "!conda activate base\n",
        "\n",
        "# Install Snakemake using pip (after conda setup)\n",
        "# We ensure pip uses the python from the conda environment (if activated)\n",
        "print(\"Installing Snakemake...\")\n",
        "!pip install snakemake\n",
        "\n",
        "# Verify installations\n",
        "print(\"\\nVerifying installations:\")\n",
        "!which conda # Should print /usr/local/bin/conda or /usr/local/condabin/conda\n",
        "!conda --version\n",
        "!snakemake --version\n",
        "\n",
        "print(\"\\nMiniconda and Snakemake installation attempt complete.\")\n",
        "\n",
        "# Install pandas for the main Snakemake execution environment\n",
        "print(\"Installing pandas...\")\n",
        "!pip install pandas\n",
        "print(\"pandas installed.\")"
      ],
      "metadata": {
        "id": "3xJD-oH6fg0O"
      },
      "execution_count": null,
      "outputs": []
    },
    {
      "cell_type": "code",
      "source": [
        "# Accept Conda Terms of Service\n",
        "\n",
        "print(\"Accepting Conda Terms of Service for required channels...\")\n",
        "# This command accepts the ToS for the 'main' channel\n",
        "!conda tos accept --override-channels --channel https://repo.anaconda.com/pkgs/main\n",
        "\n",
        "# This command accepts the ToS for the 'r' channel (for R packages if needed, which bioconda often pulls from)\n",
        "!conda tos accept --override-channels --channel https://repo.anaconda.com/pkgs/r\n",
        "\n",
        "print(\"Conda Terms of Service accepted.\")"
      ],
      "metadata": {
        "id": "MOVpmIro_F15"
      },
      "execution_count": null,
      "outputs": []
    },
    {
      "cell_type": "code",
      "source": [
        "import os\n",
        "\n",
        "colab_pipeline_root = \"/content/colab_pipeline_env\" # Same as defined in Step 2.3\n",
        "os.chdir(colab_pipeline_root)\n",
        "print(f\"Current working directory set to: {os.getcwd()}\")"
      ],
      "metadata": {
        "id": "ggp9Y318fkJR"
      },
      "execution_count": null,
      "outputs": []
    },
    {
      "cell_type": "code",
      "source": [
        "import os\n",
        "\n",
        "output_dir_in_colab = \"/content/colab_project_results\"\n",
        "os.makedirs(output_dir_in_colab, exist_ok=True)\n",
        "print(f\"Output directory created: {output_dir_in_colab}\")"
      ],
      "metadata": {
        "id": "34yTJk4CfxZt"
      },
      "execution_count": null,
      "outputs": []
    },
    {
      "cell_type": "code",
      "source": [
        "print(\"Starting Snakemake pipeline execution...\")\n",
        "# --use-conda: Tells Snakemake to manage environments using Conda.\n",
        "# --cores 2: Use 2 CPU cores. Adjust if Colab offers more (e.g., --cores 4).\n",
        "# --verbose: Provides more detailed output for debugging.\n",
        "# --printshellcmds: Shows the actual shell commands being executed by each rule.\n",
        "# --conda-frontend conda: Explicitly tells Snakemake to use the 'conda' command.\n",
        "!snakemake --use-conda --cores 2 --verbose --printshellcmds --conda-frontend conda\n",
        "print(\"\\nSnakemake pipeline execution finished.\")"
      ],
      "metadata": {
        "id": "sG3wwf9If5l3"
      },
      "execution_count": null,
      "outputs": []
    }
  ]
}